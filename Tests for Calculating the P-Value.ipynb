{
 "cells": [
  {
   "cell_type": "code",
   "execution_count": 3,
   "metadata": {},
   "outputs": [],
   "source": [
    "# Importing the relevant libararies\n",
    "import pandas as pd\n"
   ]
  },
  {
   "cell_type": "code",
   "execution_count": 4,
   "metadata": {},
   "outputs": [],
   "source": [
    "import os"
   ]
  },
  {
   "cell_type": "code",
   "execution_count": 5,
   "metadata": {},
   "outputs": [],
   "source": [
    "os.chdir(\"H:\\\\COGNITIOR Data Science\\\\dataframes\\\\\")"
   ]
  },
  {
   "cell_type": "code",
   "execution_count": 6,
   "metadata": {},
   "outputs": [],
   "source": [
    "df = pd.read_csv(\"Sampl_t_test.csv\")"
   ]
  },
  {
   "cell_type": "code",
   "execution_count": 7,
   "metadata": {},
   "outputs": [
    {
     "data": {
      "text/html": [
       "<div>\n",
       "<style scoped>\n",
       "    .dataframe tbody tr th:only-of-type {\n",
       "        vertical-align: middle;\n",
       "    }\n",
       "\n",
       "    .dataframe tbody tr th {\n",
       "        vertical-align: top;\n",
       "    }\n",
       "\n",
       "    .dataframe thead th {\n",
       "        text-align: right;\n",
       "    }\n",
       "</style>\n",
       "<table border=\"1\" class=\"dataframe\">\n",
       "  <thead>\n",
       "    <tr style=\"text-align: right;\">\n",
       "      <th></th>\n",
       "      <th>Student</th>\n",
       "      <th>Overall marks</th>\n",
       "      <th>Unnamed: 2</th>\n",
       "      <th>Gender</th>\n",
       "      <th>Subject</th>\n",
       "    </tr>\n",
       "  </thead>\n",
       "  <tbody>\n",
       "    <tr>\n",
       "      <th>0</th>\n",
       "      <td>Shubham</td>\n",
       "      <td>97</td>\n",
       "      <td>NaN</td>\n",
       "      <td>male</td>\n",
       "      <td>English</td>\n",
       "    </tr>\n",
       "    <tr>\n",
       "      <th>1</th>\n",
       "      <td>Akshay</td>\n",
       "      <td>83</td>\n",
       "      <td>NaN</td>\n",
       "      <td>male</td>\n",
       "      <td>English</td>\n",
       "    </tr>\n",
       "    <tr>\n",
       "      <th>2</th>\n",
       "      <td>Asutosh</td>\n",
       "      <td>78</td>\n",
       "      <td>NaN</td>\n",
       "      <td>male</td>\n",
       "      <td>Physics</td>\n",
       "    </tr>\n",
       "    <tr>\n",
       "      <th>3</th>\n",
       "      <td>Shivam</td>\n",
       "      <td>89</td>\n",
       "      <td>NaN</td>\n",
       "      <td>male</td>\n",
       "      <td>Math</td>\n",
       "    </tr>\n",
       "    <tr>\n",
       "      <th>4</th>\n",
       "      <td>Anurag</td>\n",
       "      <td>85</td>\n",
       "      <td>NaN</td>\n",
       "      <td>male</td>\n",
       "      <td>Chemistry</td>\n",
       "    </tr>\n",
       "    <tr>\n",
       "      <th>5</th>\n",
       "      <td>Amay</td>\n",
       "      <td>73</td>\n",
       "      <td>NaN</td>\n",
       "      <td>male</td>\n",
       "      <td>Marh</td>\n",
       "    </tr>\n",
       "    <tr>\n",
       "      <th>6</th>\n",
       "      <td>Vaibhav</td>\n",
       "      <td>77</td>\n",
       "      <td>NaN</td>\n",
       "      <td>male</td>\n",
       "      <td>English</td>\n",
       "    </tr>\n",
       "  </tbody>\n",
       "</table>\n",
       "</div>"
      ],
      "text/plain": [
       "   Student  Overall marks  Unnamed: 2 Gender    Subject\n",
       "0  Shubham             97         NaN   male    English\n",
       "1   Akshay             83         NaN   male    English\n",
       "2  Asutosh             78         NaN   male    Physics\n",
       "3   Shivam             89         NaN   male       Math\n",
       "4   Anurag             85         NaN   male  Chemistry\n",
       "5     Amay             73         NaN   male       Marh\n",
       "6  Vaibhav             77         NaN   male    English"
      ]
     },
     "execution_count": 7,
     "metadata": {},
     "output_type": "execute_result"
    }
   ],
   "source": [
    "df"
   ]
  },
  {
   "cell_type": "code",
   "execution_count": 8,
   "metadata": {},
   "outputs": [
    {
     "data": {
      "text/html": [
       "<div>\n",
       "<style scoped>\n",
       "    .dataframe tbody tr th:only-of-type {\n",
       "        vertical-align: middle;\n",
       "    }\n",
       "\n",
       "    .dataframe tbody tr th {\n",
       "        vertical-align: top;\n",
       "    }\n",
       "\n",
       "    .dataframe thead th {\n",
       "        text-align: right;\n",
       "    }\n",
       "</style>\n",
       "<table border=\"1\" class=\"dataframe\">\n",
       "  <thead>\n",
       "    <tr style=\"text-align: right;\">\n",
       "      <th></th>\n",
       "      <th>Student</th>\n",
       "      <th>Overall marks</th>\n",
       "      <th>Unnamed: 2</th>\n",
       "      <th>Gender</th>\n",
       "      <th>Subject</th>\n",
       "    </tr>\n",
       "  </thead>\n",
       "  <tbody>\n",
       "    <tr>\n",
       "      <th>0</th>\n",
       "      <td>Shubham</td>\n",
       "      <td>97</td>\n",
       "      <td>NaN</td>\n",
       "      <td>male</td>\n",
       "      <td>English</td>\n",
       "    </tr>\n",
       "    <tr>\n",
       "      <th>1</th>\n",
       "      <td>Akshay</td>\n",
       "      <td>83</td>\n",
       "      <td>NaN</td>\n",
       "      <td>male</td>\n",
       "      <td>English</td>\n",
       "    </tr>\n",
       "    <tr>\n",
       "      <th>2</th>\n",
       "      <td>Asutosh</td>\n",
       "      <td>78</td>\n",
       "      <td>NaN</td>\n",
       "      <td>male</td>\n",
       "      <td>Physics</td>\n",
       "    </tr>\n",
       "    <tr>\n",
       "      <th>3</th>\n",
       "      <td>Shivam</td>\n",
       "      <td>89</td>\n",
       "      <td>NaN</td>\n",
       "      <td>male</td>\n",
       "      <td>Math</td>\n",
       "    </tr>\n",
       "    <tr>\n",
       "      <th>4</th>\n",
       "      <td>Anurag</td>\n",
       "      <td>85</td>\n",
       "      <td>NaN</td>\n",
       "      <td>male</td>\n",
       "      <td>Chemistry</td>\n",
       "    </tr>\n",
       "  </tbody>\n",
       "</table>\n",
       "</div>"
      ],
      "text/plain": [
       "   Student  Overall marks  Unnamed: 2 Gender    Subject\n",
       "0  Shubham             97         NaN   male    English\n",
       "1   Akshay             83         NaN   male    English\n",
       "2  Asutosh             78         NaN   male    Physics\n",
       "3   Shivam             89         NaN   male       Math\n",
       "4   Anurag             85         NaN   male  Chemistry"
      ]
     },
     "execution_count": 8,
     "metadata": {},
     "output_type": "execute_result"
    }
   ],
   "source": [
    "# First five element\n",
    "\n",
    "df.head()"
   ]
  },
  {
   "cell_type": "markdown",
   "metadata": {},
   "source": [
    "# Let's Run the T-test(One Tailed Sample T_test) and calculate the p-value"
   ]
  },
  {
   "cell_type": "code",
   "execution_count": 9,
   "metadata": {},
   "outputs": [],
   "source": [
    "from scipy.stats import ttest_1samp\n",
    "t_statistics,p_value = ttest_1samp(df[\"Overall marks\"],70)"
   ]
  },
  {
   "cell_type": "code",
   "execution_count": 10,
   "metadata": {},
   "outputs": [
    {
     "data": {
      "text/plain": [
       "0.005230792477426615"
      ]
     },
     "execution_count": 10,
     "metadata": {},
     "output_type": "execute_result"
    }
   ],
   "source": [
    "# p_value for (One Sample T_test)\n",
    "\n",
    "p_value"
   ]
  },
  {
   "cell_type": "raw",
   "metadata": {},
   "source": [
    "Here the p_value<0.05 i.e0.00523 hence we reject the Null hypothesis"
   ]
  },
  {
   "cell_type": "raw",
   "metadata": {},
   "source": [
    "# confidence_level= 1 - Significance_level  "
   ]
  },
  {
   "cell_type": "raw",
   "metadata": {},
   "source": [
    "significance_value = z table .......> Z_score value....>            X(mean)-u0\n",
    "                                                          Z_score = --------------\n",
    "                                                                     S/n1/2"
   ]
  },
  {
   "cell_type": "raw",
   "metadata": {},
   "source": [
    " z_value  is nothing but observed value is hwo much away from the Mean  Observed value = u + Z_score * S(standered deviation)"
   ]
  },
  {
   "cell_type": "raw",
   "metadata": {},
   "source": [
    "0.05(significance value) value is based on the prolems Requirement"
   ]
  },
  {
   "cell_type": "markdown",
   "metadata": {},
   "source": [
    "T-Test:-  1) t-test is similar to the z score value\n",
    "          2)Use sample standered deviation to estimate popullation satndered deviation\n",
    "          3)          x-u\n",
    "                t = ---------  degree of freedom = No. of sample - 1  i.e DF = N-1\n",
    "                     s/n1/2"
   ]
  },
  {
   "cell_type": "raw",
   "metadata": {},
   "source": [
    "# Steps to do T-Test:-\n",
    "                          step-1)  Define Null And Alternate Hypothesis\n",
    "                          \n",
    "                          step-2)  Get the t-critical value from the table\n",
    "                          \n",
    "                          step-3) if the statistics computed is more than the t critical value in positive value the we fail to reject the null hpotheisis and vice versa\n",
    "\n"
   ]
  },
  {
   "cell_type": "markdown",
   "metadata": {},
   "source": [
    "# T_Test(  Paired Two tailed Sample t_test)"
   ]
  },
  {
   "cell_type": "code",
   "execution_count": 11,
   "metadata": {},
   "outputs": [],
   "source": [
    "data=pd.read_csv(\"data.csv\")"
   ]
  },
  {
   "cell_type": "code",
   "execution_count": 12,
   "metadata": {},
   "outputs": [
    {
     "data": {
      "text/html": [
       "<div>\n",
       "<style scoped>\n",
       "    .dataframe tbody tr th:only-of-type {\n",
       "        vertical-align: middle;\n",
       "    }\n",
       "\n",
       "    .dataframe tbody tr th {\n",
       "        vertical-align: top;\n",
       "    }\n",
       "\n",
       "    .dataframe thead th {\n",
       "        text-align: right;\n",
       "    }\n",
       "</style>\n",
       "<table border=\"1\" class=\"dataframe\">\n",
       "  <thead>\n",
       "    <tr style=\"text-align: right;\">\n",
       "      <th></th>\n",
       "      <th>Country</th>\n",
       "      <th>Age</th>\n",
       "      <th>Salary</th>\n",
       "      <th>Purchased</th>\n",
       "    </tr>\n",
       "  </thead>\n",
       "  <tbody>\n",
       "    <tr>\n",
       "      <th>0</th>\n",
       "      <td>France</td>\n",
       "      <td>44</td>\n",
       "      <td>72000</td>\n",
       "      <td>No</td>\n",
       "    </tr>\n",
       "    <tr>\n",
       "      <th>1</th>\n",
       "      <td>Spain</td>\n",
       "      <td>27</td>\n",
       "      <td>48000</td>\n",
       "      <td>Yes</td>\n",
       "    </tr>\n",
       "    <tr>\n",
       "      <th>2</th>\n",
       "      <td>Germany</td>\n",
       "      <td>30</td>\n",
       "      <td>54000</td>\n",
       "      <td>No</td>\n",
       "    </tr>\n",
       "    <tr>\n",
       "      <th>3</th>\n",
       "      <td>Spain</td>\n",
       "      <td>45</td>\n",
       "      <td>61000</td>\n",
       "      <td>No</td>\n",
       "    </tr>\n",
       "    <tr>\n",
       "      <th>4</th>\n",
       "      <td>Germany</td>\n",
       "      <td>40</td>\n",
       "      <td>45000</td>\n",
       "      <td>Yes</td>\n",
       "    </tr>\n",
       "    <tr>\n",
       "      <th>5</th>\n",
       "      <td>France</td>\n",
       "      <td>35</td>\n",
       "      <td>58000</td>\n",
       "      <td>Yes</td>\n",
       "    </tr>\n",
       "    <tr>\n",
       "      <th>6</th>\n",
       "      <td>Spain</td>\n",
       "      <td>39</td>\n",
       "      <td>52000</td>\n",
       "      <td>No</td>\n",
       "    </tr>\n",
       "    <tr>\n",
       "      <th>7</th>\n",
       "      <td>France</td>\n",
       "      <td>48</td>\n",
       "      <td>79000</td>\n",
       "      <td>Yes</td>\n",
       "    </tr>\n",
       "    <tr>\n",
       "      <th>8</th>\n",
       "      <td>Germany</td>\n",
       "      <td>50</td>\n",
       "      <td>83000</td>\n",
       "      <td>No</td>\n",
       "    </tr>\n",
       "    <tr>\n",
       "      <th>9</th>\n",
       "      <td>France</td>\n",
       "      <td>37</td>\n",
       "      <td>67000</td>\n",
       "      <td>Yes</td>\n",
       "    </tr>\n",
       "  </tbody>\n",
       "</table>\n",
       "</div>"
      ],
      "text/plain": [
       "   Country  Age  Salary Purchased\n",
       "0   France   44   72000        No\n",
       "1    Spain   27   48000       Yes\n",
       "2  Germany   30   54000        No\n",
       "3    Spain   45   61000        No\n",
       "4  Germany   40   45000       Yes\n",
       "5   France   35   58000       Yes\n",
       "6    Spain   39   52000        No\n",
       "7   France   48   79000       Yes\n",
       "8  Germany   50   83000        No\n",
       "9   France   37   67000       Yes"
      ]
     },
     "execution_count": 12,
     "metadata": {},
     "output_type": "execute_result"
    }
   ],
   "source": [
    "data"
   ]
  },
  {
   "cell_type": "code",
   "execution_count": 13,
   "metadata": {},
   "outputs": [],
   "source": [
    "import scipy.stats as stats\n",
    "from scipy.stats import ttest_rel\n",
    "t_statistics,p_value = stats.ttest_rel(data[\"Age\"],data[\"Salary\"])"
   ]
  },
  {
   "cell_type": "code",
   "execution_count": 14,
   "metadata": {},
   "outputs": [
    {
     "data": {
      "text/plain": [
       "1.092991548900647e-07"
      ]
     },
     "execution_count": 14,
     "metadata": {},
     "output_type": "execute_result"
    }
   ],
   "source": [
    "p_value"
   ]
  },
  {
   "cell_type": "raw",
   "metadata": {},
   "source": [
    " p_value=1.09*e-7=0.000000109 here the p_value<0.05 hence we  reject the null hypothesis"
   ]
  },
  {
   "cell_type": "markdown",
   "metadata": {},
   "source": [
    "# 2 sample t_test"
   ]
  },
  {
   "cell_type": "raw",
   "metadata": {},
   "source": [
    "                 differnce \n",
    "t_value =     -----------------     degree of freedom = N1+N2-2\n",
    "               standered error"
   ]
  },
  {
   "cell_type": "raw",
   "metadata": {},
   "source": [
    "Difeerence is the diiffeneces in their mean and standered error  would be the combine satndered error of the two sample\n",
    "\n",
    "\n",
    "\n",
    "                 X1 - X2\n",
    "   t_value  =  -------------------------                     t_value = calculated fromt the formula\n",
    "           (S21/N1  +  S22/N2)1/2                    t_critcal value = calulated from t_table and by using degree of fredom\n"
   ]
  },
  {
   "cell_type": "raw",
   "metadata": {},
   "source": [
    " If t_ value < t_critical value , Then we =====>  Reject the Null Hpothesis\n",
    " \n",
    " If t_ value > t_critical value , Then we =====>   Fa il to Reject the Null Hypothesis"
   ]
  },
  {
   "cell_type": "code",
   "execution_count": null,
   "metadata": {},
   "outputs": [],
   "source": []
  },
  {
   "cell_type": "raw",
   "metadata": {},
   "source": [
    "Ypu have two choices to get to eat . One is Hauz Khan and the other is the Defence colny .You Dont't WANT  tp spend a lot money, so you decide to figure out if there is a significant differnce in the meal prices of these places\n",
    "\n",
    "Mean Hauz Khas = 178.89  Mean Def col+ 222.89\n",
    "\n",
    "n Hauz= 18  n def Col = 43.58\n",
    "\n",
    "sd Hauz = 52.9 sd Def Col= 43.58\n",
    "\n",
    "use alpha=0.05\n",
    "\n",
    "put all these values in the in t formula we get t_value=2.58 an then got to the t table check DF(degree of freedom)=18 +14-2=30\n",
    "\n",
    "and from t tble got the t_critical value = 2.04 i.e tvalue>t_critical value hence we will reject the null hypothesis\n",
    "\n"
   ]
  },
  {
   "cell_type": "code",
   "execution_count": 15,
   "metadata": {},
   "outputs": [],
   "source": [
    "# here we get the values from jupyter notebook"
   ]
  },
  {
   "cell_type": "code",
   "execution_count": 16,
   "metadata": {},
   "outputs": [],
   "source": [
    "os.chdir(\"H:\\\\COGNITIOR Data Science\\\\dataframes\\\\\")"
   ]
  },
  {
   "cell_type": "code",
   "execution_count": 17,
   "metadata": {},
   "outputs": [],
   "source": [
    "df2 = pd.read_csv(\"Two_sample_test.csv\")"
   ]
  },
  {
   "cell_type": "code",
   "execution_count": 18,
   "metadata": {},
   "outputs": [
    {
     "data": {
      "text/html": [
       "<div>\n",
       "<style scoped>\n",
       "    .dataframe tbody tr th:only-of-type {\n",
       "        vertical-align: middle;\n",
       "    }\n",
       "\n",
       "    .dataframe tbody tr th {\n",
       "        vertical-align: top;\n",
       "    }\n",
       "\n",
       "    .dataframe thead th {\n",
       "        text-align: right;\n",
       "    }\n",
       "</style>\n",
       "<table border=\"1\" class=\"dataframe\">\n",
       "  <thead>\n",
       "    <tr style=\"text-align: right;\">\n",
       "      <th></th>\n",
       "      <th>Hauz Khas</th>\n",
       "      <th>Defence_Col</th>\n",
       "    </tr>\n",
       "  </thead>\n",
       "  <tbody>\n",
       "    <tr>\n",
       "      <th>0</th>\n",
       "      <td>180</td>\n",
       "      <td>220</td>\n",
       "    </tr>\n",
       "    <tr>\n",
       "      <th>1</th>\n",
       "      <td>100</td>\n",
       "      <td>200</td>\n",
       "    </tr>\n",
       "    <tr>\n",
       "      <th>2</th>\n",
       "      <td>120</td>\n",
       "      <td>240</td>\n",
       "    </tr>\n",
       "    <tr>\n",
       "      <th>3</th>\n",
       "      <td>220</td>\n",
       "      <td>180</td>\n",
       "    </tr>\n",
       "    <tr>\n",
       "      <th>4</th>\n",
       "      <td>160</td>\n",
       "      <td>160</td>\n",
       "    </tr>\n",
       "  </tbody>\n",
       "</table>\n",
       "</div>"
      ],
      "text/plain": [
       "   Hauz Khas  Defence_Col\n",
       "0        180          220\n",
       "1        100          200\n",
       "2        120          240\n",
       "3        220          180\n",
       "4        160          160"
      ]
     },
     "execution_count": 18,
     "metadata": {},
     "output_type": "execute_result"
    }
   ],
   "source": [
    "df2"
   ]
  },
  {
   "cell_type": "code",
   "execution_count": 19,
   "metadata": {},
   "outputs": [],
   "source": [
    "import scipy.stats as stats\n",
    "from scipy.stats import ttest_ind\n",
    "t_statistics,p_value = stats.ttest_ind(df2[\"Hauz Khas\"],df2[\"Defence_Col\"])"
   ]
  },
  {
   "cell_type": "code",
   "execution_count": 20,
   "metadata": {},
   "outputs": [
    {
     "data": {
      "text/plain": [
       "0.12413819196300228"
      ]
     },
     "execution_count": 20,
     "metadata": {},
     "output_type": "execute_result"
    }
   ],
   "source": [
    "p_value"
   ]
  },
  {
   "cell_type": "raw",
   "metadata": {},
   "source": [
    " p_value >0.05 hence we fail to reject Null hypothesis"
   ]
  },
  {
   "cell_type": "markdown",
   "metadata": {},
   "source": [
    "# Chi Squred test(Categorical variable)"
   ]
  },
  {
   "cell_type": "raw",
   "metadata": {},
   "source": [
    "when we have categorical data it get converted into the frequcy and then for testing we use Chi-Sqaure Test \n",
    "\n",
    "                           (O - E)2\n",
    "X2(Chi Square _value) = ------------------------      Degrees of freddom = No. of categories - 1\n",
    "                              E\n",
    "                              \n",
    "                              \n",
    "                              \n",
    "                               ChiSquare_value = calculated fromt the formula\n",
    "           \n",
    "                        ChiSqure_critcal value = calulated from ChiSquare_table and by using degree of fredom\n",
    "\n",
    "           \n",
    "           "
   ]
  },
  {
   "cell_type": "raw",
   "metadata": {},
   "source": [
    " If     ChiSquare_ value  <  ChiSquare_critical value , Then we =====>  Reject the Null Hpothesis\n",
    " \n",
    " If     ChiSquare_ value  >  ChiSquare_critical value , Then we =====>   Fa il to Reject the Null Hypothesis"
   ]
  },
  {
   "cell_type": "code",
   "execution_count": 21,
   "metadata": {},
   "outputs": [],
   "source": [
    "# here we are calculating the chi square values in jupyter notebook"
   ]
  },
  {
   "cell_type": "code",
   "execution_count": 22,
   "metadata": {},
   "outputs": [],
   "source": [
    "df3 = pd.read_csv(\"Chi_squre_test.csv\")"
   ]
  },
  {
   "cell_type": "code",
   "execution_count": 23,
   "metadata": {},
   "outputs": [
    {
     "data": {
      "text/html": [
       "<div>\n",
       "<style scoped>\n",
       "    .dataframe tbody tr th:only-of-type {\n",
       "        vertical-align: middle;\n",
       "    }\n",
       "\n",
       "    .dataframe tbody tr th {\n",
       "        vertical-align: top;\n",
       "    }\n",
       "\n",
       "    .dataframe thead th {\n",
       "        text-align: right;\n",
       "    }\n",
       "</style>\n",
       "<table border=\"1\" class=\"dataframe\">\n",
       "  <thead>\n",
       "    <tr style=\"text-align: right;\">\n",
       "      <th></th>\n",
       "      <th>Event</th>\n",
       "      <th>Observed</th>\n",
       "      <th>Expected</th>\n",
       "    </tr>\n",
       "  </thead>\n",
       "  <tbody>\n",
       "    <tr>\n",
       "      <th>0</th>\n",
       "      <td>successful</td>\n",
       "      <td>41</td>\n",
       "      <td>33</td>\n",
       "    </tr>\n",
       "    <tr>\n",
       "      <th>1</th>\n",
       "      <td>Unsucessfull</td>\n",
       "      <td>59</td>\n",
       "      <td>67</td>\n",
       "    </tr>\n",
       "  </tbody>\n",
       "</table>\n",
       "</div>"
      ],
      "text/plain": [
       "          Event  Observed  Expected\n",
       "0    successful        41        33\n",
       "1  Unsucessfull        59        67"
      ]
     },
     "execution_count": 23,
     "metadata": {},
     "output_type": "execute_result"
    }
   ],
   "source": [
    "df3"
   ]
  },
  {
   "cell_type": "code",
   "execution_count": 24,
   "metadata": {},
   "outputs": [],
   "source": [
    "import scipy.stats as stats\n",
    "from scipy.stats import chisquare\n",
    "t_statistics,p_value = chisquare(f_obs= df3[\"Observed\"],f_exp=df3[\"Observed\"])"
   ]
  },
  {
   "cell_type": "code",
   "execution_count": 25,
   "metadata": {},
   "outputs": [
    {
     "data": {
      "text/plain": [
       "1.0"
      ]
     },
     "execution_count": 25,
     "metadata": {},
     "output_type": "execute_result"
    }
   ],
   "source": [
    "p_value"
   ]
  },
  {
   "cell_type": "raw",
   "metadata": {},
   "source": [
    "hence the  p>0.05, we fail to reject the null Hypothesis i.e. oberved and expected frequencies are similar"
   ]
  },
  {
   "cell_type": "markdown",
   "metadata": {},
   "source": [
    "# Coorelations"
   ]
  },
  {
   "cell_type": "raw",
   "metadata": {},
   "source": [
    "   * it is used to determine the relationship two varibales\n",
    "   \n",
    "   * Denoted by r\n",
    "   \n",
    "   * The value ranges from -1 to 1.Here 0 means no corelationship\n",
    "   \n",
    "   *           cov(X,y)\n",
    "         R =  -----------\n",
    "                Sx*Sy\n",
    "                \n",
    "                \n",
    "                \n",
    "     * it shows  how much of these variables vary with each other . While the standred deviation shows how much these variables vary apart from each other \n",
    "     \n",
    "     \n",
    "     *if the data falls perfectly in positive direction then the value of the r=1 and if the data falls in the neagative direction r=-1\n",
    "     \n",
    "     * R lies within 1 to -1\n",
    "     \n",
    "     * data is not corelated at all has r values of 0\n",
    "     \n",
    "     * R-Square is known the coefficient of determination and can be interpreted in terms of %\n",
    "                \n",
    "                "
   ]
  },
  {
   "cell_type": "code",
   "execution_count": 26,
   "metadata": {},
   "outputs": [],
   "source": [
    "df4 = pd.read_csv('BigMartSales.csv')"
   ]
  },
  {
   "cell_type": "code",
   "execution_count": 27,
   "metadata": {},
   "outputs": [
    {
     "data": {
      "text/html": [
       "<div>\n",
       "<style scoped>\n",
       "    .dataframe tbody tr th:only-of-type {\n",
       "        vertical-align: middle;\n",
       "    }\n",
       "\n",
       "    .dataframe tbody tr th {\n",
       "        vertical-align: top;\n",
       "    }\n",
       "\n",
       "    .dataframe thead th {\n",
       "        text-align: right;\n",
       "    }\n",
       "</style>\n",
       "<table border=\"1\" class=\"dataframe\">\n",
       "  <thead>\n",
       "    <tr style=\"text-align: right;\">\n",
       "      <th></th>\n",
       "      <th>Item_identifier</th>\n",
       "      <th>Item_weight</th>\n",
       "      <th>Item_mrp</th>\n",
       "      <th>Item_outlet_sales</th>\n",
       "    </tr>\n",
       "  </thead>\n",
       "  <tbody>\n",
       "    <tr>\n",
       "      <th>0</th>\n",
       "      <td>FHF73</td>\n",
       "      <td>9.30</td>\n",
       "      <td>289.32</td>\n",
       "      <td>3758.320</td>\n",
       "    </tr>\n",
       "    <tr>\n",
       "      <th>1</th>\n",
       "      <td>UERG45</td>\n",
       "      <td>5.92</td>\n",
       "      <td>55.23</td>\n",
       "      <td>2356.210</td>\n",
       "    </tr>\n",
       "    <tr>\n",
       "      <th>2</th>\n",
       "      <td>HJS34</td>\n",
       "      <td>17.50</td>\n",
       "      <td>152.36</td>\n",
       "      <td>5623.210</td>\n",
       "    </tr>\n",
       "    <tr>\n",
       "      <th>3</th>\n",
       "      <td>JFF83</td>\n",
       "      <td>19.20</td>\n",
       "      <td>45.23</td>\n",
       "      <td>752.360</td>\n",
       "    </tr>\n",
       "    <tr>\n",
       "      <th>4</th>\n",
       "      <td>UDD74</td>\n",
       "      <td>8.93</td>\n",
       "      <td>188.77</td>\n",
       "      <td>564.321</td>\n",
       "    </tr>\n",
       "    <tr>\n",
       "      <th>5</th>\n",
       "      <td>JFH74</td>\n",
       "      <td>12.77</td>\n",
       "      <td>236.24</td>\n",
       "      <td>2541.360</td>\n",
       "    </tr>\n",
       "  </tbody>\n",
       "</table>\n",
       "</div>"
      ],
      "text/plain": [
       "  Item_identifier  Item_weight  Item_mrp  Item_outlet_sales\n",
       "0           FHF73         9.30    289.32           3758.320\n",
       "1          UERG45         5.92     55.23           2356.210\n",
       "2           HJS34        17.50    152.36           5623.210\n",
       "3           JFF83        19.20     45.23            752.360\n",
       "4           UDD74         8.93    188.77            564.321\n",
       "5           JFH74        12.77    236.24           2541.360"
      ]
     },
     "execution_count": 27,
     "metadata": {},
     "output_type": "execute_result"
    }
   ],
   "source": [
    "df4"
   ]
  },
  {
   "cell_type": "code",
   "execution_count": 28,
   "metadata": {},
   "outputs": [
    {
     "data": {
      "text/html": [
       "<div>\n",
       "<style scoped>\n",
       "    .dataframe tbody tr th:only-of-type {\n",
       "        vertical-align: middle;\n",
       "    }\n",
       "\n",
       "    .dataframe tbody tr th {\n",
       "        vertical-align: top;\n",
       "    }\n",
       "\n",
       "    .dataframe thead th {\n",
       "        text-align: right;\n",
       "    }\n",
       "</style>\n",
       "<table border=\"1\" class=\"dataframe\">\n",
       "  <thead>\n",
       "    <tr style=\"text-align: right;\">\n",
       "      <th></th>\n",
       "      <th>Item_weight</th>\n",
       "      <th>Item_mrp</th>\n",
       "    </tr>\n",
       "  </thead>\n",
       "  <tbody>\n",
       "    <tr>\n",
       "      <th>Item_weight</th>\n",
       "      <td>1.000000</td>\n",
       "      <td>-0.240724</td>\n",
       "    </tr>\n",
       "    <tr>\n",
       "      <th>Item_mrp</th>\n",
       "      <td>-0.240724</td>\n",
       "      <td>1.000000</td>\n",
       "    </tr>\n",
       "  </tbody>\n",
       "</table>\n",
       "</div>"
      ],
      "text/plain": [
       "             Item_weight  Item_mrp\n",
       "Item_weight     1.000000 -0.240724\n",
       "Item_mrp       -0.240724  1.000000"
      ]
     },
     "execution_count": 28,
     "metadata": {},
     "output_type": "execute_result"
    }
   ],
   "source": [
    "# corelation between the two Item_wight and Item_mrp\n",
    "\n",
    "df4[['Item_weight','Item_mrp']].corr()"
   ]
  },
  {
   "cell_type": "raw",
   "metadata": {},
   "source": [
    "HERE, the Corelation is very poor the Correlation is strong when r is always near to the 1 or equal to 1"
   ]
  },
  {
   "cell_type": "code",
   "execution_count": 29,
   "metadata": {},
   "outputs": [
    {
     "data": {
      "text/html": [
       "<div>\n",
       "<style scoped>\n",
       "    .dataframe tbody tr th:only-of-type {\n",
       "        vertical-align: middle;\n",
       "    }\n",
       "\n",
       "    .dataframe tbody tr th {\n",
       "        vertical-align: top;\n",
       "    }\n",
       "\n",
       "    .dataframe thead th {\n",
       "        text-align: right;\n",
       "    }\n",
       "</style>\n",
       "<table border=\"1\" class=\"dataframe\">\n",
       "  <thead>\n",
       "    <tr style=\"text-align: right;\">\n",
       "      <th></th>\n",
       "      <th>Item_weight</th>\n",
       "      <th>Item_outlet_sales</th>\n",
       "    </tr>\n",
       "  </thead>\n",
       "  <tbody>\n",
       "    <tr>\n",
       "      <th>Item_weight</th>\n",
       "      <td>1.000000</td>\n",
       "      <td>0.158958</td>\n",
       "    </tr>\n",
       "    <tr>\n",
       "      <th>Item_outlet_sales</th>\n",
       "      <td>0.158958</td>\n",
       "      <td>1.000000</td>\n",
       "    </tr>\n",
       "  </tbody>\n",
       "</table>\n",
       "</div>"
      ],
      "text/plain": [
       "                   Item_weight  Item_outlet_sales\n",
       "Item_weight           1.000000           0.158958\n",
       "Item_outlet_sales     0.158958           1.000000"
      ]
     },
     "execution_count": 29,
     "metadata": {},
     "output_type": "execute_result"
    }
   ],
   "source": [
    "## corelation between the two Item_weight and Item_Outlet_sales\n",
    "\n",
    "df4[['Item_weight','Item_outlet_sales']].corr()"
   ]
  },
  {
   "cell_type": "code",
   "execution_count": 30,
   "metadata": {},
   "outputs": [
    {
     "data": {
      "text/html": [
       "<div>\n",
       "<style scoped>\n",
       "    .dataframe tbody tr th:only-of-type {\n",
       "        vertical-align: middle;\n",
       "    }\n",
       "\n",
       "    .dataframe tbody tr th {\n",
       "        vertical-align: top;\n",
       "    }\n",
       "\n",
       "    .dataframe thead th {\n",
       "        text-align: right;\n",
       "    }\n",
       "</style>\n",
       "<table border=\"1\" class=\"dataframe\">\n",
       "  <thead>\n",
       "    <tr style=\"text-align: right;\">\n",
       "      <th></th>\n",
       "      <th>Item_mrp</th>\n",
       "      <th>Item_outlet_sales</th>\n",
       "    </tr>\n",
       "  </thead>\n",
       "  <tbody>\n",
       "    <tr>\n",
       "      <th>Item_mrp</th>\n",
       "      <td>1.000000</td>\n",
       "      <td>0.324671</td>\n",
       "    </tr>\n",
       "    <tr>\n",
       "      <th>Item_outlet_sales</th>\n",
       "      <td>0.324671</td>\n",
       "      <td>1.000000</td>\n",
       "    </tr>\n",
       "  </tbody>\n",
       "</table>\n",
       "</div>"
      ],
      "text/plain": [
       "                   Item_mrp  Item_outlet_sales\n",
       "Item_mrp           1.000000           0.324671\n",
       "Item_outlet_sales  0.324671           1.000000"
      ]
     },
     "execution_count": 30,
     "metadata": {},
     "output_type": "execute_result"
    }
   ],
   "source": [
    "## corelation between the two Item_mrp and Item_Outlet_sales\n",
    "\n",
    "df4[['Item_mrp','Item_outlet_sales']].corr()"
   ]
  },
  {
   "cell_type": "code",
   "execution_count": 45,
   "metadata": {},
   "outputs": [],
   "source": [
    "# Plotting the correlation between difference feature\n",
    "\n",
    "\n",
    "import matplotlib.pyplot as plt\n",
    "%matplotlib inline\n",
    "import seaborn as sns"
   ]
  },
  {
   "cell_type": "code",
   "execution_count": 46,
   "metadata": {},
   "outputs": [
    {
     "data": {
      "text/html": [
       "<div>\n",
       "<style scoped>\n",
       "    .dataframe tbody tr th:only-of-type {\n",
       "        vertical-align: middle;\n",
       "    }\n",
       "\n",
       "    .dataframe tbody tr th {\n",
       "        vertical-align: top;\n",
       "    }\n",
       "\n",
       "    .dataframe thead th {\n",
       "        text-align: right;\n",
       "    }\n",
       "</style>\n",
       "<table border=\"1\" class=\"dataframe\">\n",
       "  <thead>\n",
       "    <tr style=\"text-align: right;\">\n",
       "      <th></th>\n",
       "      <th>Item_weight</th>\n",
       "      <th>Item_mrp</th>\n",
       "      <th>Item_outlet_sales</th>\n",
       "    </tr>\n",
       "  </thead>\n",
       "  <tbody>\n",
       "    <tr>\n",
       "      <th>Item_weight</th>\n",
       "      <td>1.000000</td>\n",
       "      <td>-0.240724</td>\n",
       "      <td>0.158958</td>\n",
       "    </tr>\n",
       "    <tr>\n",
       "      <th>Item_mrp</th>\n",
       "      <td>-0.240724</td>\n",
       "      <td>1.000000</td>\n",
       "      <td>0.324671</td>\n",
       "    </tr>\n",
       "    <tr>\n",
       "      <th>Item_outlet_sales</th>\n",
       "      <td>0.158958</td>\n",
       "      <td>0.324671</td>\n",
       "      <td>1.000000</td>\n",
       "    </tr>\n",
       "  </tbody>\n",
       "</table>\n",
       "</div>"
      ],
      "text/plain": [
       "                   Item_weight  Item_mrp  Item_outlet_sales\n",
       "Item_weight           1.000000 -0.240724           0.158958\n",
       "Item_mrp             -0.240724  1.000000           0.324671\n",
       "Item_outlet_sales     0.158958  0.324671           1.000000"
      ]
     },
     "execution_count": 46,
     "metadata": {},
     "output_type": "execute_result"
    }
   ],
   "source": [
    "df4.corr()"
   ]
  },
  {
   "cell_type": "code",
   "execution_count": 50,
   "metadata": {},
   "outputs": [
    {
     "data": {
      "text/plain": [
       "<matplotlib.axes._subplots.AxesSubplot at 0x1942911e588>"
      ]
     },
     "execution_count": 50,
     "metadata": {},
     "output_type": "execute_result"
    },
    {
     "data": {
      "image/png": "[encoded data removed]",
      "text/plain": [
       "<Figure size 1440x720 with 2 Axes>"
      ]
     },
     "metadata": {
      "needs_background": "light"
     },
     "output_type": "display_data"
    }
   ],
   "source": [
    "# Plotting the coorelation betweem difference feature\n",
    "\n",
    "cor = df4.corr()\n",
    "plt.figure(figsize=(20,10))\n",
    "sns.heatmap(cor)"
   ]
  }
 ],
 "metadata": {
  "kernelspec": {
   "display_name": "Python 3",
   "language": "python",
   "name": "python3"
  },
  "language_info": {
   "codemirror_mode": {
    "name": "ipython",
    "version": 3
   },
   "file_extension": ".py",
   "mimetype": "text/x-python",
   "name": "python",
   "nbconvert_exporter": "python",
   "pygments_lexer": "ipython3",
   "version": "3.7.3"
  }
 },
 "nbformat": 4,
 "nbformat_minor": 2
}
